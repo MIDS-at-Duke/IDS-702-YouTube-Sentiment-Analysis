{
 "cells": [
  {
   "cell_type": "code",
   "execution_count": 2,
   "metadata": {},
   "outputs": [],
   "source": [
    "import math\n",
    "import pandas as pd\n",
    "import numpy as np\n",
    "import seaborn as sns\n",
    "import json\n",
    "import itertools\n",
    "import re\n",
    "import random\n",
    "from sklearn.model_selection import train_test_split\n",
    "from sklearn.linear_model import LinearRegression\n",
    "import requests\n",
    "\n",
    "\n",
    "import matplotlib.pyplot as plt\n",
    "import matplotlib.gridspec as gridspec\n",
    "from vaderSentiment.vaderSentiment import SentimentIntensityAnalyzer "
   ]
  },
  {
   "cell_type": "code",
   "execution_count": 18,
   "metadata": {},
   "outputs": [],
   "source": [
    "columns1 = ['video_id', 'title', 'channel_title', 'category_id',\n",
    "          'tags', 'views', 'likes', 'dislikes', 'comment_total',\n",
    "          'thumbnail_link', 'date']\n",
    "vid_df =  pd.read_csv(\"C:/Users/Vishaal/Desktop/IDS Final/USvideos.csv\", usecols = columns1)\n",
    "vid_df = vid_df.dropna()\n",
    "\n",
    "columns2 = ['video_id', 'comment_text', 'likes', 'replies']\n",
    "\n",
    "comm_df =  pd.read_csv(\"C:/Users/Vishaal/Desktop/IDS Final/UScomments.csv\", usecols = columns2, low_memory=False)\n",
    "comm_df = comm_df.dropna()"
   ]
  },
  {
   "cell_type": "code",
   "execution_count": 19,
   "metadata": {},
   "outputs": [],
   "source": [
    "vid_df.category_id = pd.Categorical(vid_df.category_id)"
   ]
  },
  {
   "cell_type": "code",
   "execution_count": 20,
   "metadata": {},
   "outputs": [
    {
     "data": {
      "text/plain": [
       "array(['13.09', '14.09', '15.09', '16.09', '17.09', '18.09', '19.09',\n",
       "       '20.09', '21.09', '22.09', '23.09', '24.09', '24.09xcaeyJTx4Co',\n",
       "       '25.09', '26.09', '26.0903jeumSTSzc', '27.09', '28.09', '29.09',\n",
       "       '30.09', '01.10', '02.10', '03.10', '04.10', '05.10', '06.10',\n",
       "       '07.10', '08.10', '09.10', '100', '10.10', '11.10', '12.10',\n",
       "       '13.10', '14.10', '15.10', '16.10', '17.10', '18.10', '19.10',\n",
       "       '20.10', '21.10', '22.10'], dtype=object)"
      ]
     },
     "execution_count": 20,
     "metadata": {},
     "output_type": "execute_result"
    }
   ],
   "source": [
    "#Some dates seem to be messed up. We shall replace them with something more meaningful\n",
    "vid_df['date'].unique()"
   ]
  },
  {
   "cell_type": "code",
   "execution_count": 21,
   "metadata": {},
   "outputs": [
    {
     "data": {
      "text/plain": [
       "video_id                                              _ANP3HR1jsM\n",
       "comment_text    My dad raised Razor's Edge Pitbulls. If you fa...\n",
       "likes                                              FoxSearchlight\n",
       "replies                                                         1\n",
       "Name: 41587, dtype: object"
      ]
     },
     "execution_count": 21,
     "metadata": {},
     "output_type": "execute_result"
    }
   ],
   "source": [
    "#Comments have emojis! Hope VADER can handle emojis...\n",
    "comm_df.iloc[41587, ]\n",
    "\n",
    "\n",
    "\n",
    "\n"
   ]
  },
  {
   "cell_type": "code",
   "execution_count": 23,
   "metadata": {},
   "outputs": [],
   "source": [
    "#Removing wrong entries in the reply column. Converting all to int...\n",
    "comm_df.drop(41587, inplace=True)\n",
    "comm_df.drop(41588, inplace=True)\n",
    "comm_df.drop(51626, inplace=True)\n",
    "comm_df.drop(142419, inplace=True)\n",
    "comm_df.drop(142494, inplace=True)\n",
    "comm_df.drop(189730, inplace=True)\n",
    "comm_df.drop(245216, inplace=True)\n",
    "comm_df.drop(114463, inplace=True)\n",
    "comm_df.drop(388428, inplace=True)\n"
   ]
  },
  {
   "cell_type": "code",
   "execution_count": 24,
   "metadata": {},
   "outputs": [],
   "source": [
    "comm_df.replies = pd.to_numeric(comm_df.replies)\n",
    "comm_df.likes = pd.to_numeric(comm_df.likes)"
   ]
  },
  {
   "cell_type": "code",
   "execution_count": 25,
   "metadata": {},
   "outputs": [],
   "source": [
    "#Correcting the dates in vid_df\n",
    "vid_df.loc[vid_df['date'] == '24.09xcaeyJTx4Co', 'date'] = '24.09'\n",
    "vid_df.loc[vid_df['date'] == '26.0903jeumSTSzc', 'date'] = '26.09'\n",
    "vid_df.loc[vid_df['date'] == '100', 'date'] = '09.10'"
   ]
  },
  {
   "cell_type": "code",
   "execution_count": 26,
   "metadata": {},
   "outputs": [],
   "source": [
    "#We also change the date format...code from kaggle...\n",
    "vid_df['date'] = vid_df['date'].apply(lambda x: pd.to_datetime(str(x).replace('.','')+\"2017\",format='%d%m%Y'))\n",
    "vid_df['date'] = vid_df['date'].dt.date"
   ]
  },
  {
   "cell_type": "code",
   "execution_count": 27,
   "metadata": {},
   "outputs": [],
   "source": [
    "vid_df['L/D'] = vid_df.likes/vid_df.dislikes\n",
    "vid_df.drop(vid_df[vid_df['L/D'] == float('inf')].index, inplace=True)\n",
    "vid_df.dropna(inplace=True)\n",
    "vid_df[vid_df.video_id == 'CAQ2wWVlOuc']\n",
    "vid_df[vid_df.video_id == 'CAQ2wWVlOuc'].to_csv('C:/Users/Vishaal/Desktop/IDS Final/bezos.csv', encoding='utf-8', index=False)"
   ]
  },
  {
   "cell_type": "code",
   "execution_count": 28,
   "metadata": {},
   "outputs": [],
   "source": [
    "#Let's creat a new column called L/D..also let get rid of the duplicates... based on video_id\n",
    "video_df = vid_df.drop_duplicates(subset = 'video_id', inplace = False, keep = 'last')\n",
    "vid_df_1 = video_df[video_df['category_id'] == 24]"
   ]
  },
  {
   "cell_type": "code",
   "execution_count": 29,
   "metadata": {},
   "outputs": [
    {
     "data": {
      "text/plain": [
       "0"
      ]
     },
     "execution_count": 29,
     "metadata": {},
     "output_type": "execute_result"
    }
   ],
   "source": [
    "#There are 73 videos with no dislikes....hmmmm...\n",
    "\n",
    "len(video_df[video_df['L/D'] == float('inf')])"
   ]
  },
  {
   "cell_type": "code",
   "execution_count": 30,
   "metadata": {},
   "outputs": [
    {
     "data": {
      "text/plain": [
       "Text(0, 0.5, 'Views(in m)')"
      ]
     },
     "execution_count": 30,
     "metadata": {},
     "output_type": "execute_result"
    },
    {
     "data": {
      "image/png": "[encoded data removed]",
      "text/plain": [
       "<Figure size 432x288 with 1 Axes>"
      ]
     },
     "metadata": {
      "needs_background": "light"
     },
     "output_type": "display_data"
    }
   ],
   "source": [
    "#Code sourced from kaggle - to see which channels have a certain trending word\n",
    "tag_top = video_df[video_df['title'].str.contains('Google')].sort_values(by='views', ascending=False).head(10)\n",
    "ax = tag_top.plot(kind='bar',x='channel_title',y='views',title='Top10 Channels with the word Google')\n",
    "ax.set_xlabel('Channel Title')\n",
    "ax.set_ylabel('Views(in m)')\n",
    "#plt.savefig('D:/IDS 702 Final Project/youtube/foo.png')"
   ]
  },
  {
   "cell_type": "code",
   "execution_count": 31,
   "metadata": {},
   "outputs": [
    {
     "data": {
      "text/plain": [
       "2266"
      ]
     },
     "execution_count": 31,
     "metadata": {},
     "output_type": "execute_result"
    }
   ],
   "source": [
    "#Good thing that the number of unique videos in comments dataset is less than that in video dataset. As expected. \n",
    "len(video_df.video_id.unique())\n",
    "len(comm_df.video_id.unique())"
   ]
  },
  {
   "cell_type": "code",
   "execution_count": 32,
   "metadata": {},
   "outputs": [
    {
     "data": {
      "text/plain": [
       "2280"
      ]
     },
     "execution_count": 32,
     "metadata": {},
     "output_type": "execute_result"
    }
   ],
   "source": [
    "#Bunch of duplicates though in the video dataset..... same video uploaded multiple times. This could be because of copyright etc. Wd shall simply drop the duplicates. \n",
    "len(video_df.video_id)"
   ]
  },
  {
   "cell_type": "code",
   "execution_count": 33,
   "metadata": {},
   "outputs": [],
   "source": [
    "#A left join makes the most sense here. Let all the video data survive. This is at the comment level.\n",
    "merged_left_24 = pd.merge(left=vid_df_1,right=comm_df, how='left', left_on='video_id', right_on='video_id', validate = '1:m')\n",
    "merged_left = pd.merge(left=video_df,right=comm_df, how='left', left_on='video_id', right_on='video_id', validate = '1:m')\n"
   ]
  },
  {
   "cell_type": "code",
   "execution_count": 34,
   "metadata": {},
   "outputs": [
    {
     "data": {
      "text/plain": [
       "(array([0.5, 1.5, 2.5, 3.5, 4.5]), <a list of 5 Text yticklabel objects>)"
      ]
     },
     "execution_count": 34,
     "metadata": {},
     "output_type": "execute_result"
    },
    {
     "data": {
      "image/png": "[encoded data removed]",
      "text/plain": [
       "<Figure size 1008x360 with 2 Axes>"
      ]
     },
     "metadata": {
      "needs_background": "light"
     },
     "output_type": "display_data"
    }
   ],
   "source": [
    "corr_us = video_df.loc[:,['views', 'likes', 'dislikes', 'L/D', 'comment_total']].corr()\n",
    "mask = np.zeros_like(corr_us, dtype=np.bool)\n",
    "mask[np.triu_indices_from(mask)] = True\n",
    "\n",
    "fig = plt.figure(figsize=(14, 5))\n",
    "gs = gridspec.GridSpec(1, 2, width_ratios=[1,1])\n",
    "cmap = sns.diverging_palette(220, 10, as_cmap=True)\n",
    "\n",
    "ax2 = plt.subplot(gs[0,1])\n",
    "ax1 = sns.heatmap(corr_us, cmap=cmap, vmax=1, center=0.5,\n",
    "                  square=True, linewidths=.5, mask=mask)\n",
    "ax2.set_title('Correlation Matrix', fontsize=20)\n",
    "plt.yticks(rotation=0)\n",
    "\n"
   ]
  },
  {
   "cell_type": "code",
   "execution_count": 35,
   "metadata": {},
   "outputs": [],
   "source": [
    "#Now we do the text analysis on all the comments using vader...\n",
    "sid_obj = SentimentIntensityAnalyzer() \n",
    "\n",
    "score = []\n",
    "p = []\n",
    "neu = []\n",
    "neg = []\n",
    "compound = []\n",
    "\n",
    "for sentence in merged_left.comment_text:\n",
    "        sentiment_dict = sid_obj.polarity_scores(str(sentence)) \n",
    "        score.append(sentiment_dict)\n",
    "        p.append(sentiment_dict['pos'])\n",
    "        neg.append(sentiment_dict['neg'])\n",
    "        neu.append(sentiment_dict['neu'])\n",
    "        compound.append(sentiment_dict['compound'])"
   ]
  },
  {
   "cell_type": "code",
   "execution_count": 36,
   "metadata": {},
   "outputs": [],
   "source": [
    "merged_left['poitive_score'] = p\n",
    "merged_left['negative_score'] = neg\n",
    "merged_left['neutral_score'] = neu\n",
    "merged_left['compound_score'] = compound\n"
   ]
  },
  {
   "cell_type": "code",
   "execution_count": 37,
   "metadata": {},
   "outputs": [
    {
     "data": {
      "text/plain": [
       "(array([0.5, 1.5, 2.5, 3.5, 4.5]), <a list of 5 Text yticklabel objects>)"
      ]
     },
     "execution_count": 37,
     "metadata": {},
     "output_type": "execute_result"
    },
    {
     "data": {
      "image/png": "[encoded data removed]",
      "text/plain": [
       "<Figure size 1008x360 with 2 Axes>"
      ]
     },
     "metadata": {
      "needs_background": "light"
     },
     "output_type": "display_data"
    }
   ],
   "source": [
    "corr_us = merged_left.loc[:,[ 'views','likes_x', 'dislikes', 'L/D', 'compound_score']].corr()\n",
    "mask = np.zeros_like(corr_us, dtype=np.bool)\n",
    "mask[np.triu_indices_from(mask)] = True\n",
    "\n",
    "fig = plt.figure(figsize=(14, 5))\n",
    "gs = gridspec.GridSpec(1, 2, width_ratios=[1,1])\n",
    "cmap = sns.diverging_palette(220, 10, as_cmap=True)\n",
    "\n",
    "ax2 = plt.subplot(gs[0,1])\n",
    "ax1 = sns.heatmap(corr_us, cmap=cmap, vmax=1, center=0.5,\n",
    "                  square=True, linewidths=.5, mask=mask)\n",
    "ax2.set_title('Correlation Matrix', fontsize=20)\n",
    "plt.yticks(rotation=0)"
   ]
  },
  {
   "cell_type": "code",
   "execution_count": 38,
   "metadata": {},
   "outputs": [
    {
     "data": {
      "image/png": "[encoded data removed]",
      "text/plain": [
       "<Figure size 432x288 with 2 Axes>"
      ]
     },
     "metadata": {
      "needs_background": "light"
     },
     "output_type": "display_data"
    }
   ],
   "source": [
    "\n",
    "corr = merged_left.corr()\n",
    "ax = sns.heatmap(\n",
    "    corr, \n",
    "    vmin=-1, vmax=1, center=0,\n",
    "    cmap=sns.diverging_palette(20, 220, n=200),\n",
    "    square=True\n",
    "\n",
    ")\n",
    "ax.set_xticklabels(\n",
    "    ax.get_xticklabels(),\n",
    "    rotation=30,\n",
    "    horizontalalignment='right'\n",
    ");\n",
    "ax.set_title('Correlation Matrix', fontsize=20)\n",
    "plt.savefig('C:/Users/Vishaal/Desktop/IDS Final/correlation.png')"
   ]
  },
  {
   "cell_type": "code",
   "execution_count": 39,
   "metadata": {},
   "outputs": [
    {
     "data": {
      "text/plain": [
       "(681461, 19)"
      ]
     },
     "execution_count": 39,
     "metadata": {},
     "output_type": "execute_result"
    }
   ],
   "source": [
    "merged_left = merged_left[~merged_left['channel_title'].isin(['The Daily Show with Trevor Noah' , 'CNN', 'ABC News', 'Cardi B', 'MILO', 'Logan Paul Vlogs', 'WatchMojo.com', 'LegallyArmedAmerica', 'ProPublica', 'Courageous Conservatives PAC'])]\n",
    "\n",
    "merged_left.shape"
   ]
  },
  {
   "cell_type": "code",
   "execution_count": 40,
   "metadata": {},
   "outputs": [],
   "source": [
    "df1 = merged_left.groupby([ 'video_id', 'category_id'], as_index = False).mean()\n"
   ]
  },
  {
   "cell_type": "code",
   "execution_count": 41,
   "metadata": {},
   "outputs": [],
   "source": [
    "df2 = merged_left.groupby( 'category_id', as_index = False).mean()\n"
   ]
  },
  {
   "cell_type": "code",
   "execution_count": 44,
   "metadata": {},
   "outputs": [],
   "source": [
    "comm_pos1 = merged_left[merged_left.compound_score==-0.9].sample(2)\n"
   ]
  },
  {
   "cell_type": "code",
   "execution_count": null,
   "metadata": {},
   "outputs": [],
   "source": [
    "comm_pos1.to_csv('C:/Users/Vishaal/Desktop/IDS Final/comm_neg1.csv', encoding='utf-8', index=False)"
   ]
  },
  {
   "cell_type": "code",
   "execution_count": null,
   "metadata": {},
   "outputs": [],
   "source": [
    "#merged_left_24.to_csv('D:/IDS 702 Final Project/youtube/merged.csv', encoding='utf-8', index=False)"
   ]
  },
  {
   "cell_type": "code",
   "execution_count": 45,
   "metadata": {},
   "outputs": [],
   "source": [
    "df1.to_csv('C:/Users/Vishaal/Desktop/IDS Final/df_average_compound_score_bycategory(many Nans)1.csv', encoding='utf-8', index=False)"
   ]
  },
  {
   "cell_type": "code",
   "execution_count": 46,
   "metadata": {},
   "outputs": [],
   "source": [
    "df2.to_csv('C:/Users/Vishaal/Desktop/IDS Final/boxplot_dataframe_by_categry_id1.csv', encoding='utf-8', index=False)"
   ]
  },
  {
   "cell_type": "code",
   "execution_count": 47,
   "metadata": {},
   "outputs": [],
   "source": [
    "#Grouped by channel title\n",
    "df3 = merged_left.groupby( ['channel_title', 'category_id'], as_index = False).mean()\n",
    "df3.sort_values('compound_score', inplace = True)\n",
    "\n"
   ]
  },
  {
   "cell_type": "code",
   "execution_count": 48,
   "metadata": {},
   "outputs": [],
   "source": [
    "df3_sort = df3.sort_values('compound_score')\n",
    "df3_select = df3[df3['channel_title'].isin(['The Daily Show with Trevor Noah' , 'CNN', 'ABC News', 'Cardi B', 'MILO', 'Logan Paul Vlogs', 'WatchMojo.com', 'LegallyArmedAmerica', 'ProPublica', 'Courageous Conservatives PAC'])]\n",
    "                \n",
    "#df3_select"
   ]
  },
  {
   "cell_type": "code",
   "execution_count": 49,
   "metadata": {},
   "outputs": [],
   "source": [
    "df3_select.to_csv('C:/Users/Vishaal/Desktop/IDS Final/controversial1.csv', encoding='utf-8', index=False)"
   ]
  },
  {
   "cell_type": "code",
   "execution_count": 50,
   "metadata": {},
   "outputs": [],
   "source": [
    "idx = merged_left.groupby(['title'])['likes_y'].transform(max) == merged_left['likes_y']\n",
    "cor = merged_left[idx]\n"
   ]
  },
  {
   "cell_type": "code",
   "execution_count": 51,
   "metadata": {},
   "outputs": [],
   "source": [
    "df5 = cor.groupby( 'title', as_index = False).mean()"
   ]
  },
  {
   "cell_type": "code",
   "execution_count": 52,
   "metadata": {},
   "outputs": [],
   "source": [
    "#Now we do the text analysis on all the comments using vader...\n",
    "sid_obj_com = SentimentIntensityAnalyzer() \n",
    "\n",
    "score_com = []\n",
    "p_com = []\n",
    "neu_com = []\n",
    "neg_com = []\n",
    "compound_com = []\n",
    "\n",
    "for sentence in df5.title:\n",
    "        sentiment_dict_com = sid_obj_com.polarity_scores(str(sentence)) \n",
    "        score_com.append(sentiment_dict_com)\n",
    "        p_com.append(sentiment_dict_com['pos'])\n",
    "        neg_com.append(sentiment_dict_com['neg'])\n",
    "        neu_com.append(sentiment_dict_com['neu'])\n",
    "        compound_com.append(sentiment_dict_com['compound'])"
   ]
  },
  {
   "cell_type": "code",
   "execution_count": 53,
   "metadata": {},
   "outputs": [],
   "source": [
    "\n",
    "df5['compound_score_comm'] = compound_com"
   ]
  },
  {
   "cell_type": "code",
   "execution_count": 54,
   "metadata": {},
   "outputs": [],
   "source": [
    "df5.to_csv('C:/Users/Vishaal/Desktop/IDS Final/comment_corr.csv', encoding='utf-8', index=False)"
   ]
  },
  {
   "cell_type": "code",
   "execution_count": 55,
   "metadata": {},
   "outputs": [],
   "source": [
    "idx1 = merged_left.groupby(['title'])['likes_y'].transform(max) == merged_left['likes_y']\n",
    "cor1 = merged_left[~idx1]"
   ]
  },
  {
   "cell_type": "code",
   "execution_count": 56,
   "metadata": {},
   "outputs": [],
   "source": [
    "df6 = cor1.groupby( 'title', as_index = False).mean()"
   ]
  },
  {
   "cell_type": "code",
   "execution_count": 57,
   "metadata": {},
   "outputs": [],
   "source": [
    "del df5['compound_score_comm']"
   ]
  },
  {
   "cell_type": "code",
   "execution_count": 58,
   "metadata": {},
   "outputs": [
    {
     "data": {
      "text/plain": [
       "(2236, 12)"
      ]
     },
     "execution_count": 58,
     "metadata": {},
     "output_type": "execute_result"
    }
   ],
   "source": [
    "df6.shape"
   ]
  },
  {
   "cell_type": "code",
   "execution_count": 59,
   "metadata": {},
   "outputs": [],
   "source": [
    "df7 = df6[df6.title.isin(df5.title.values)]"
   ]
  },
  {
   "cell_type": "code",
   "execution_count": 60,
   "metadata": {},
   "outputs": [
    {
     "data": {
      "text/plain": [
       "(2172, 12)"
      ]
     },
     "execution_count": 60,
     "metadata": {},
     "output_type": "execute_result"
    }
   ],
   "source": [
    "df7.shape"
   ]
  },
  {
   "cell_type": "code",
   "execution_count": 61,
   "metadata": {},
   "outputs": [],
   "source": [
    "df7.to_csv('C:/Users/Vishaal/Desktop/IDS Final/other_comm.csv', encoding='utf-8', index=False)"
   ]
  },
  {
   "cell_type": "code",
   "execution_count": null,
   "metadata": {},
   "outputs": [],
   "source": []
  },
  {
   "cell_type": "code",
   "execution_count": null,
   "metadata": {},
   "outputs": [],
   "source": []
  },
  {
   "cell_type": "code",
   "execution_count": null,
   "metadata": {},
   "outputs": [],
   "source": []
  },
  {
   "cell_type": "code",
   "execution_count": null,
   "metadata": {},
   "outputs": [],
   "source": []
  },
  {
   "cell_type": "code",
   "execution_count": null,
   "metadata": {},
   "outputs": [],
   "source": []
  },
  {
   "cell_type": "code",
   "execution_count": null,
   "metadata": {},
   "outputs": [],
   "source": []
  },
  {
   "cell_type": "code",
   "execution_count": null,
   "metadata": {},
   "outputs": [],
   "source": []
  },
  {
   "cell_type": "code",
   "execution_count": null,
   "metadata": {},
   "outputs": [],
   "source": []
  },
  {
   "cell_type": "code",
   "execution_count": null,
   "metadata": {},
   "outputs": [],
   "source": []
  },
  {
   "cell_type": "code",
   "execution_count": null,
   "metadata": {},
   "outputs": [],
   "source": []
  },
  {
   "cell_type": "code",
   "execution_count": null,
   "metadata": {},
   "outputs": [],
   "source": []
  },
  {
   "cell_type": "code",
   "execution_count": null,
   "metadata": {},
   "outputs": [],
   "source": []
  },
  {
   "cell_type": "code",
   "execution_count": null,
   "metadata": {},
   "outputs": [],
   "source": []
  },
  {
   "cell_type": "code",
   "execution_count": null,
   "metadata": {},
   "outputs": [],
   "source": []
  },
  {
   "cell_type": "code",
   "execution_count": null,
   "metadata": {},
   "outputs": [],
   "source": []
  },
  {
   "cell_type": "code",
   "execution_count": null,
   "metadata": {},
   "outputs": [],
   "source": []
  },
  {
   "cell_type": "code",
   "execution_count": null,
   "metadata": {},
   "outputs": [],
   "source": []
  }
 ],
 "metadata": {
  "kernelspec": {
   "display_name": "Python 3",
   "language": "python",
   "name": "python3"
  },
  "language_info": {
   "codemirror_mode": {
    "name": "ipython",
    "version": 3
   },
   "file_extension": ".py",
   "mimetype": "text/x-python",
   "name": "python",
   "nbconvert_exporter": "python",
   "pygments_lexer": "ipython3",
   "version": "3.7.3"
  }
 },
 "nbformat": 4,
 "nbformat_minor": 4
}
